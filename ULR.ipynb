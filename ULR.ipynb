{
 "cells": [
  {
   "cell_type": "code",
   "execution_count": 1,
   "id": "24eb2eb8-0747-4e2b-b466-5cb6b539c859",
   "metadata": {},
   "outputs": [],
   "source": [
    "import pandas as pd\n",
    "import numpy as np\n",
    "import seaborn as sns\n",
    "import matplotlib.pyplot as plt\n",
    "\n",
    "from sklearn.impute import SimpleImputer\n",
    "from sklearn.preprocessing import LabelEncoder\n",
    "from sklearn.model_selection import KFold\n",
    "from sklearn.model_selection import train_test_split\n",
    "\n",
    "from sklearn.linear_model import LinearRegression\n",
    "\n",
    "from sklearn.metrics import mean_squared_error\n",
    "from sklearn.metrics import r2_score\n",
    "# from sklearn.metrics import roc"
   ]
  },
  {
   "cell_type": "markdown",
   "id": "7ed0fca0-e36f-4c2c-aa87-b4499ec6cb31",
   "metadata": {},
   "source": [
    "## Reading data"
   ]
  },
  {
   "cell_type": "code",
   "execution_count": 2,
   "id": "e1a647c0-4f47-460b-874a-208d99311975",
   "metadata": {},
   "outputs": [],
   "source": [
    "data = pd.read_csv('consolidated_cryptocoin_data.csv')"
   ]
  },
  {
   "cell_type": "code",
   "execution_count": 3,
   "id": "9392d288-17eb-47a6-b9ad-4d0b47e1a4ff",
   "metadata": {},
   "outputs": [
    {
     "data": {
      "text/html": [
       "<div>\n",
       "<style scoped>\n",
       "    .dataframe tbody tr th:only-of-type {\n",
       "        vertical-align: middle;\n",
       "    }\n",
       "\n",
       "    .dataframe tbody tr th {\n",
       "        vertical-align: top;\n",
       "    }\n",
       "\n",
       "    .dataframe thead th {\n",
       "        text-align: right;\n",
       "    }\n",
       "</style>\n",
       "<table border=\"1\" class=\"dataframe\">\n",
       "  <thead>\n",
       "    <tr style=\"text-align: right;\">\n",
       "      <th></th>\n",
       "      <th>Currency</th>\n",
       "      <th>Date</th>\n",
       "      <th>Open</th>\n",
       "      <th>High</th>\n",
       "      <th>Low</th>\n",
       "      <th>Close</th>\n",
       "      <th>Volume</th>\n",
       "      <th>Market Cap</th>\n",
       "    </tr>\n",
       "  </thead>\n",
       "  <tbody>\n",
       "    <tr>\n",
       "      <th>0</th>\n",
       "      <td>ripple</td>\n",
       "      <td>24-Apr-19</td>\n",
       "      <td>0.321114</td>\n",
       "      <td>0.321282</td>\n",
       "      <td>0.296982</td>\n",
       "      <td>0.302318</td>\n",
       "      <td>1,517,791,002</td>\n",
       "      <td>12,698,877,293</td>\n",
       "    </tr>\n",
       "    <tr>\n",
       "      <th>1</th>\n",
       "      <td>ripple</td>\n",
       "      <td>23-Apr-19</td>\n",
       "      <td>0.323844</td>\n",
       "      <td>0.328396</td>\n",
       "      <td>0.320919</td>\n",
       "      <td>0.321222</td>\n",
       "      <td>1,077,333,990</td>\n",
       "      <td>13,492,933,875</td>\n",
       "    </tr>\n",
       "    <tr>\n",
       "      <th>2</th>\n",
       "      <td>ripple</td>\n",
       "      <td>22-Apr-19</td>\n",
       "      <td>0.322277</td>\n",
       "      <td>0.329350</td>\n",
       "      <td>0.320237</td>\n",
       "      <td>0.323934</td>\n",
       "      <td>1,131,094,080</td>\n",
       "      <td>13,606,823,301</td>\n",
       "    </tr>\n",
       "    <tr>\n",
       "      <th>3</th>\n",
       "      <td>ripple</td>\n",
       "      <td>21-Apr-19</td>\n",
       "      <td>0.328678</td>\n",
       "      <td>0.329627</td>\n",
       "      <td>0.318746</td>\n",
       "      <td>0.322449</td>\n",
       "      <td>1,005,803,846</td>\n",
       "      <td>13,533,407,430</td>\n",
       "    </tr>\n",
       "    <tr>\n",
       "      <th>4</th>\n",
       "      <td>ripple</td>\n",
       "      <td>20-Apr-19</td>\n",
       "      <td>0.331871</td>\n",
       "      <td>0.333213</td>\n",
       "      <td>0.324969</td>\n",
       "      <td>0.328476</td>\n",
       "      <td>931,570,799</td>\n",
       "      <td>13,786,384,592</td>\n",
       "    </tr>\n",
       "    <tr>\n",
       "      <th>...</th>\n",
       "      <td>...</td>\n",
       "      <td>...</td>\n",
       "      <td>...</td>\n",
       "      <td>...</td>\n",
       "      <td>...</td>\n",
       "      <td>...</td>\n",
       "      <td>...</td>\n",
       "      <td>...</td>\n",
       "    </tr>\n",
       "    <tr>\n",
       "      <th>13571</th>\n",
       "      <td>cardano</td>\n",
       "      <td>5-Oct-17</td>\n",
       "      <td>0.021951</td>\n",
       "      <td>0.022154</td>\n",
       "      <td>0.020859</td>\n",
       "      <td>0.021489</td>\n",
       "      <td>5,562,510</td>\n",
       "      <td>557,139,041</td>\n",
       "    </tr>\n",
       "    <tr>\n",
       "      <th>13572</th>\n",
       "      <td>cardano</td>\n",
       "      <td>4-Oct-17</td>\n",
       "      <td>0.020864</td>\n",
       "      <td>0.022806</td>\n",
       "      <td>0.020864</td>\n",
       "      <td>0.021931</td>\n",
       "      <td>9,000,050</td>\n",
       "      <td>568,619,548</td>\n",
       "    </tr>\n",
       "    <tr>\n",
       "      <th>13573</th>\n",
       "      <td>cardano</td>\n",
       "      <td>3-Oct-17</td>\n",
       "      <td>0.025757</td>\n",
       "      <td>0.027425</td>\n",
       "      <td>0.020690</td>\n",
       "      <td>0.020816</td>\n",
       "      <td>16,997,800</td>\n",
       "      <td>539,692,715</td>\n",
       "    </tr>\n",
       "    <tr>\n",
       "      <th>13574</th>\n",
       "      <td>cardano</td>\n",
       "      <td>2-Oct-17</td>\n",
       "      <td>0.024607</td>\n",
       "      <td>0.030088</td>\n",
       "      <td>0.019969</td>\n",
       "      <td>0.025932</td>\n",
       "      <td>57,641,300</td>\n",
       "      <td>628,899,052</td>\n",
       "    </tr>\n",
       "    <tr>\n",
       "      <th>13575</th>\n",
       "      <td>cardano</td>\n",
       "      <td>1-Oct-17</td>\n",
       "      <td>0.021678</td>\n",
       "      <td>0.032226</td>\n",
       "      <td>0.017354</td>\n",
       "      <td>0.024969</td>\n",
       "      <td>50,068,700</td>\n",
       "      <td>-</td>\n",
       "    </tr>\n",
       "  </tbody>\n",
       "</table>\n",
       "<p>13576 rows × 8 columns</p>\n",
       "</div>"
      ],
      "text/plain": [
       "      Currency       Date      Open      High       Low     Close  \\\n",
       "0       ripple  24-Apr-19  0.321114  0.321282  0.296982  0.302318   \n",
       "1       ripple  23-Apr-19  0.323844  0.328396  0.320919  0.321222   \n",
       "2       ripple  22-Apr-19  0.322277  0.329350  0.320237  0.323934   \n",
       "3       ripple  21-Apr-19  0.328678  0.329627  0.318746  0.322449   \n",
       "4       ripple  20-Apr-19  0.331871  0.333213  0.324969  0.328476   \n",
       "...        ...        ...       ...       ...       ...       ...   \n",
       "13571  cardano   5-Oct-17  0.021951  0.022154  0.020859  0.021489   \n",
       "13572  cardano   4-Oct-17  0.020864  0.022806  0.020864  0.021931   \n",
       "13573  cardano   3-Oct-17  0.025757  0.027425  0.020690  0.020816   \n",
       "13574  cardano   2-Oct-17  0.024607  0.030088  0.019969  0.025932   \n",
       "13575  cardano   1-Oct-17  0.021678  0.032226  0.017354  0.024969   \n",
       "\n",
       "              Volume      Market Cap  \n",
       "0      1,517,791,002  12,698,877,293  \n",
       "1      1,077,333,990  13,492,933,875  \n",
       "2      1,131,094,080  13,606,823,301  \n",
       "3      1,005,803,846  13,533,407,430  \n",
       "4        931,570,799  13,786,384,592  \n",
       "...              ...             ...  \n",
       "13571      5,562,510     557,139,041  \n",
       "13572      9,000,050     568,619,548  \n",
       "13573     16,997,800     539,692,715  \n",
       "13574     57,641,300     628,899,052  \n",
       "13575     50,068,700               -  \n",
       "\n",
       "[13576 rows x 8 columns]"
      ]
     },
     "execution_count": 3,
     "metadata": {},
     "output_type": "execute_result"
    }
   ],
   "source": [
    "data"
   ]
  },
  {
   "cell_type": "markdown",
   "id": "a49aa9bd-4095-4a17-873a-f0adaf454616",
   "metadata": {},
   "source": [
    "## Exploratory Data Analysis"
   ]
  },
  {
   "cell_type": "code",
   "execution_count": 4,
   "id": "797d173e-4c19-4c50-84d5-4207a0d1b006",
   "metadata": {},
   "outputs": [
    {
     "data": {
      "text/plain": [
       "(13576, 8)"
      ]
     },
     "execution_count": 4,
     "metadata": {},
     "output_type": "execute_result"
    }
   ],
   "source": [
    "data.shape"
   ]
  },
  {
   "cell_type": "code",
   "execution_count": 5,
   "id": "76b689b0-36f3-4c00-937e-b1e7e5c218e6",
   "metadata": {},
   "outputs": [
    {
     "data": {
      "text/html": [
       "<div>\n",
       "<style scoped>\n",
       "    .dataframe tbody tr th:only-of-type {\n",
       "        vertical-align: middle;\n",
       "    }\n",
       "\n",
       "    .dataframe tbody tr th {\n",
       "        vertical-align: top;\n",
       "    }\n",
       "\n",
       "    .dataframe thead th {\n",
       "        text-align: right;\n",
       "    }\n",
       "</style>\n",
       "<table border=\"1\" class=\"dataframe\">\n",
       "  <thead>\n",
       "    <tr style=\"text-align: right;\">\n",
       "      <th></th>\n",
       "      <th>Currency</th>\n",
       "      <th>Date</th>\n",
       "      <th>Open</th>\n",
       "      <th>High</th>\n",
       "      <th>Low</th>\n",
       "      <th>Close</th>\n",
       "      <th>Volume</th>\n",
       "      <th>Market Cap</th>\n",
       "    </tr>\n",
       "  </thead>\n",
       "  <tbody>\n",
       "    <tr>\n",
       "      <th>0</th>\n",
       "      <td>ripple</td>\n",
       "      <td>24-Apr-19</td>\n",
       "      <td>0.321114</td>\n",
       "      <td>0.321282</td>\n",
       "      <td>0.296982</td>\n",
       "      <td>0.302318</td>\n",
       "      <td>1,517,791,002</td>\n",
       "      <td>12,698,877,293</td>\n",
       "    </tr>\n",
       "    <tr>\n",
       "      <th>1</th>\n",
       "      <td>ripple</td>\n",
       "      <td>23-Apr-19</td>\n",
       "      <td>0.323844</td>\n",
       "      <td>0.328396</td>\n",
       "      <td>0.320919</td>\n",
       "      <td>0.321222</td>\n",
       "      <td>1,077,333,990</td>\n",
       "      <td>13,492,933,875</td>\n",
       "    </tr>\n",
       "    <tr>\n",
       "      <th>2</th>\n",
       "      <td>ripple</td>\n",
       "      <td>22-Apr-19</td>\n",
       "      <td>0.322277</td>\n",
       "      <td>0.329350</td>\n",
       "      <td>0.320237</td>\n",
       "      <td>0.323934</td>\n",
       "      <td>1,131,094,080</td>\n",
       "      <td>13,606,823,301</td>\n",
       "    </tr>\n",
       "    <tr>\n",
       "      <th>3</th>\n",
       "      <td>ripple</td>\n",
       "      <td>21-Apr-19</td>\n",
       "      <td>0.328678</td>\n",
       "      <td>0.329627</td>\n",
       "      <td>0.318746</td>\n",
       "      <td>0.322449</td>\n",
       "      <td>1,005,803,846</td>\n",
       "      <td>13,533,407,430</td>\n",
       "    </tr>\n",
       "    <tr>\n",
       "      <th>4</th>\n",
       "      <td>ripple</td>\n",
       "      <td>20-Apr-19</td>\n",
       "      <td>0.331871</td>\n",
       "      <td>0.333213</td>\n",
       "      <td>0.324969</td>\n",
       "      <td>0.328476</td>\n",
       "      <td>931,570,799</td>\n",
       "      <td>13,786,384,592</td>\n",
       "    </tr>\n",
       "  </tbody>\n",
       "</table>\n",
       "</div>"
      ],
      "text/plain": [
       "  Currency       Date      Open      High       Low     Close         Volume  \\\n",
       "0   ripple  24-Apr-19  0.321114  0.321282  0.296982  0.302318  1,517,791,002   \n",
       "1   ripple  23-Apr-19  0.323844  0.328396  0.320919  0.321222  1,077,333,990   \n",
       "2   ripple  22-Apr-19  0.322277  0.329350  0.320237  0.323934  1,131,094,080   \n",
       "3   ripple  21-Apr-19  0.328678  0.329627  0.318746  0.322449  1,005,803,846   \n",
       "4   ripple  20-Apr-19  0.331871  0.333213  0.324969  0.328476    931,570,799   \n",
       "\n",
       "       Market Cap  \n",
       "0  12,698,877,293  \n",
       "1  13,492,933,875  \n",
       "2  13,606,823,301  \n",
       "3  13,533,407,430  \n",
       "4  13,786,384,592  "
      ]
     },
     "execution_count": 5,
     "metadata": {},
     "output_type": "execute_result"
    }
   ],
   "source": [
    "data.head()"
   ]
  },
  {
   "cell_type": "code",
   "execution_count": 6,
   "id": "148c3d2c-9872-42e5-9c54-63128067b81d",
   "metadata": {},
   "outputs": [
    {
     "name": "stdout",
     "output_type": "stream",
     "text": [
      "<class 'pandas.core.frame.DataFrame'>\n",
      "RangeIndex: 13576 entries, 0 to 13575\n",
      "Data columns (total 8 columns):\n",
      " #   Column      Non-Null Count  Dtype  \n",
      "---  ------      --------------  -----  \n",
      " 0   Currency    13576 non-null  object \n",
      " 1   Date        13576 non-null  object \n",
      " 2   Open        13576 non-null  float64\n",
      " 3   High        13576 non-null  float64\n",
      " 4   Low         13576 non-null  float64\n",
      " 5   Close       13576 non-null  float64\n",
      " 6   Volume      13576 non-null  object \n",
      " 7   Market Cap  13576 non-null  object \n",
      "dtypes: float64(4), object(4)\n",
      "memory usage: 848.6+ KB\n"
     ]
    }
   ],
   "source": [
    "data.info()"
   ]
  },
  {
   "cell_type": "code",
   "execution_count": 8,
   "id": "8cc86c8a-41c1-4537-a92b-6373b6470993",
   "metadata": {},
   "outputs": [
    {
     "data": {
      "text/plain": [
       "Currency      0\n",
       "Date          0\n",
       "Open          0\n",
       "High          0\n",
       "Low           0\n",
       "Close         0\n",
       "Volume        0\n",
       "Market Cap    0\n",
       "dtype: int64"
      ]
     },
     "execution_count": 8,
     "metadata": {},
     "output_type": "execute_result"
    }
   ],
   "source": [
    "data.isnull().sum()"
   ]
  },
  {
   "cell_type": "code",
   "execution_count": 9,
   "id": "9feba586-cd5d-4309-acd8-c97d720cdb16",
   "metadata": {},
   "outputs": [
    {
     "data": {
      "text/plain": [
       "array(['ripple', 'binance-coin', 'eos', 'bitcoin', 'tether',\n",
       "       'bitcoin-cash', 'stellar', 'litecoin', 'ethereum', 'cardano'],\n",
       "      dtype=object)"
      ]
     },
     "execution_count": 9,
     "metadata": {},
     "output_type": "execute_result"
    }
   ],
   "source": [
    "data['Currency'].unique()"
   ]
  },
  {
   "cell_type": "code",
   "execution_count": 23,
   "id": "1d38f716-70bd-487b-82ac-9e303c92cfe3",
   "metadata": {},
   "outputs": [
    {
     "name": "stderr",
     "output_type": "stream",
     "text": [
      "/tmp/ipykernel_10152/1766778262.py:1: FutureWarning: The default value of numeric_only in DataFrame.corr is deprecated. In a future version, it will default to False. Select only valid columns or specify the value of numeric_only to silence this warning.\n",
      "  corr = data.corr()\n"
     ]
    },
    {
     "data": {
      "text/plain": [
       "<AxesSubplot: >"
      ]
     },
     "execution_count": 23,
     "metadata": {},
     "output_type": "execute_result"
    },
    {
     "data": {
      "image/png": "[encoded data removed]",
      "text/plain": [
       "<Figure size 1100x900 with 2 Axes>"
      ]
     },
     "metadata": {},
     "output_type": "display_data"
    }
   ],
   "source": [
    "corr = data.corr()\n",
    "\n",
    "# Generate a mask for the upper triangle\n",
    "mask = np.triu(np.ones_like(corr, dtype=bool))\n",
    "\n",
    "# Set up the matplotlib figure\n",
    "f, ax = plt.subplots(figsize=(11, 9))\n",
    "\n",
    "# Generate a custom diverging colormap\n",
    "cmap = sns.diverging_palette(230, 50, as_cmap=True)\n",
    "\n",
    "# Draw the heatmap with the mask and correct aspect ratio\n",
    "sns.heatmap(corr, mask=mask, cmap=cmap, vmax=.3,\n",
    "            square=True, linewidths=.5, cbar_kws={\"shrink\": .5})"
   ]
  },
  {
   "cell_type": "code",
   "execution_count": null,
   "id": "a3260e17-5abe-412b-840b-cbf416b6f56d",
   "metadata": {},
   "outputs": [],
   "source": []
  }
 ],
 "metadata": {
  "kernelspec": {
   "display_name": "Python 3 (ipykernel)",
   "language": "python",
   "name": "python3"
  },
  "language_info": {
   "codemirror_mode": {
    "name": "ipython",
    "version": 3
   },
   "file_extension": ".py",
   "mimetype": "text/x-python",
   "name": "python",
   "nbconvert_exporter": "python",
   "pygments_lexer": "ipython3",
   "version": "3.8.10"
  }
 },
 "nbformat": 4,
 "nbformat_minor": 5
}
